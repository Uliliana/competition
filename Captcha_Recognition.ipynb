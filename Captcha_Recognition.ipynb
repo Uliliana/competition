{
  "nbformat": 4,
  "nbformat_minor": 0,
  "metadata": {
    "colab": {
      "name": "Captcha_Recognition.ipynb",
      "provenance": []
    },
    "kernelspec": {
      "name": "python3",
      "display_name": "Python 3"
    },
    "language_info": {
      "name": "python"
    },
    "accelerator": "GPU"
  },
  "cells": [
    {
      "cell_type": "code",
      "source": [
        "from google.colab import drive\n",
        "drive.mount('/gdrive')\n",
        "%cd /gdrive/My Drive/DL"
      ],
      "metadata": {
        "colab": {
          "base_uri": "https://localhost:8080/"
        },
        "id": "ywh0ilG5TIOC",
        "outputId": "ce64d4c7-8d17-418c-8dda-f3c93d39b81d"
      },
      "execution_count": null,
      "outputs": [
        {
          "output_type": "stream",
          "name": "stdout",
          "text": [
            "Mounted at /gdrive\n",
            "/gdrive/My Drive/DL\n"
          ]
        }
      ]
    },
    {
      "cell_type": "code",
      "source": [
        "import numpy as np\n",
        "import pandas as pd\n",
        "import tensorflow as tf"
      ],
      "metadata": {
        "id": "g1_SzwCSO_XS"
      },
      "execution_count": null,
      "outputs": []
    },
    {
      "cell_type": "code",
      "execution_count": null,
      "metadata": {
        "id": "UIEajvwbcfHp"
      },
      "outputs": [],
      "source": [
        "images = np.load('images.npy')/255.0-0.5\n",
        "labels = np.load('labels.npy')\n",
        "test = np.load('images_sub.npy')/255.0-0.5"
      ]
    },
    {
      "cell_type": "code",
      "source": [
        "imgshape=(48,48,3)"
      ],
      "metadata": {
        "id": "V5mQkduPy9oG"
      },
      "execution_count": null,
      "outputs": []
    },
    {
      "cell_type": "code",
      "source": [
        "import keras\n",
        "from keras.models import Sequential\n",
        "from keras.layers import Conv2D, MaxPooling2D, Flatten, Dense, Dropout"
      ],
      "metadata": {
        "id": "UvhPwKSa1aev"
      },
      "execution_count": null,
      "outputs": []
    },
    {
      "cell_type": "code",
      "source": [
        "keras.backend.clear_session()"
      ],
      "metadata": {
        "id": "n_Z2jQfLT2AT"
      },
      "execution_count": null,
      "outputs": []
    },
    {
      "cell_type": "code",
      "source": [
        "model = keras.models.Sequential()"
      ],
      "metadata": {
        "id": "nj8P9_31yCvV"
      },
      "execution_count": null,
      "outputs": []
    },
    {
      "cell_type": "code",
      "source": [
        "model.add(keras.layers.Input(shape=imgshape))"
      ],
      "metadata": {
        "id": "kiDf6kS3yZFt"
      },
      "execution_count": null,
      "outputs": []
    },
    {
      "cell_type": "code",
      "source": [
        "model.add(keras.layers.Conv2D(32,(3,3), padding='same',activation='relu',input_shape=imgshape))\n",
        "model.add(keras.layers.MaxPooling2D(padding='same'))\n",
        "model.add(keras.layers.Conv2D(64,(3,3),padding='same', activation='relu',input_shape=imgshape))\n",
        "model.add(keras.layers.MaxPooling2D(padding='same'))\n",
        "model.add(keras.layers.Conv2D(64,(3,3), padding='same', activation='relu',input_shape=imgshape))\n",
        "model.add(keras.layers.MaxPooling2D(padding='same'))\n",
        "model.add(keras.layers.Conv2D(128, (3, 3),padding='same',activation='relu'))\n",
        "model.add(keras.layers.MaxPooling2D(padding='same'))\n",
        "model.add(keras.layers.BatchNormalization())\n",
        "model.add(keras.layers.MaxPooling2D(padding='same'))"
      ],
      "metadata": {
        "id": "iRfvT1_QzOE5"
      },
      "execution_count": null,
      "outputs": []
    },
    {
      "cell_type": "code",
      "source": [
        "model.add(keras.layers.Flatten())"
      ],
      "metadata": {
        "id": "ANaerPON1NVu"
      },
      "execution_count": null,
      "outputs": []
    },
    {
      "cell_type": "code",
      "source": [
        "model.add(keras.layers.Dense(64, activation='relu'))\n",
        "model.add(keras.layers.Dropout(0.2))\n",
        "model.add(keras.layers.BatchNormalization())\n",
        "model.add(keras.layers.Dense(26, activation='sigmoid'))"
      ],
      "metadata": {
        "id": "GWk63FkXz9L-"
      },
      "execution_count": null,
      "outputs": []
    },
    {
      "cell_type": "code",
      "source": [
        "model.summary()"
      ],
      "metadata": {
        "colab": {
          "base_uri": "https://localhost:8080/"
        },
        "id": "tdvW9amW5fAg",
        "outputId": "c83682a9-ec4f-4fcb-9012-0f81869e1153"
      },
      "execution_count": null,
      "outputs": [
        {
          "output_type": "stream",
          "name": "stdout",
          "text": [
            "Model: \"sequential\"\n",
            "_________________________________________________________________\n",
            " Layer (type)                Output Shape              Param #   \n",
            "=================================================================\n",
            " conv2d (Conv2D)             (None, 48, 48, 32)        896       \n",
            "                                                                 \n",
            " max_pooling2d (MaxPooling2D  (None, 24, 24, 32)       0         \n",
            " )                                                               \n",
            "                                                                 \n",
            " conv2d_1 (Conv2D)           (None, 24, 24, 64)        18496     \n",
            "                                                                 \n",
            " max_pooling2d_1 (MaxPooling  (None, 12, 12, 64)       0         \n",
            " 2D)                                                             \n",
            "                                                                 \n",
            " conv2d_2 (Conv2D)           (None, 12, 12, 64)        36928     \n",
            "                                                                 \n",
            " max_pooling2d_2 (MaxPooling  (None, 6, 6, 64)         0         \n",
            " 2D)                                                             \n",
            "                                                                 \n",
            " conv2d_3 (Conv2D)           (None, 6, 6, 128)         73856     \n",
            "                                                                 \n",
            " max_pooling2d_3 (MaxPooling  (None, 3, 3, 128)        0         \n",
            " 2D)                                                             \n",
            "                                                                 \n",
            " batch_normalization (BatchN  (None, 3, 3, 128)        512       \n",
            " ormalization)                                                   \n",
            "                                                                 \n",
            " max_pooling2d_4 (MaxPooling  (None, 2, 2, 128)        0         \n",
            " 2D)                                                             \n",
            "                                                                 \n",
            " flatten (Flatten)           (None, 512)               0         \n",
            "                                                                 \n",
            " dense (Dense)               (None, 64)                32832     \n",
            "                                                                 \n",
            " dropout (Dropout)           (None, 64)                0         \n",
            "                                                                 \n",
            " batch_normalization_1 (Batc  (None, 64)               256       \n",
            " hNormalization)                                                 \n",
            "                                                                 \n",
            " dense_1 (Dense)             (None, 26)                1690      \n",
            "                                                                 \n",
            "=================================================================\n",
            "Total params: 165,466\n",
            "Trainable params: 165,082\n",
            "Non-trainable params: 384\n",
            "_________________________________________________________________\n"
          ]
        }
      ]
    },
    {
      "cell_type": "code",
      "source": [
        "model.compile(loss='sparse_categorical_crossentropy', optimizer='adam',metrics=['accuracy'])"
      ],
      "metadata": {
        "id": "MUrIWTcZ17ER"
      },
      "execution_count": null,
      "outputs": []
    },
    {
      "cell_type": "code",
      "source": [
        "model.fit(images, labels, batch_size = 64, epochs=15)"
      ],
      "metadata": {
        "colab": {
          "base_uri": "https://localhost:8080/"
        },
        "id": "iu26BOpw2LtD",
        "outputId": "84883a50-3966-4d8b-b358-5214b624c6ee"
      },
      "execution_count": null,
      "outputs": [
        {
          "output_type": "stream",
          "name": "stdout",
          "text": [
            "Epoch 1/15\n",
            "313/313 [==============================] - 6s 17ms/step - loss: 3.2534 - accuracy: 0.0809\n",
            "Epoch 2/15\n",
            "313/313 [==============================] - 5s 17ms/step - loss: 1.7775 - accuracy: 0.4891\n",
            "Epoch 3/15\n",
            "313/313 [==============================] - 5s 17ms/step - loss: 1.0030 - accuracy: 0.7028\n",
            "Epoch 4/15\n",
            "313/313 [==============================] - 5s 17ms/step - loss: 0.7170 - accuracy: 0.7832\n",
            "Epoch 5/15\n",
            "313/313 [==============================] - 6s 18ms/step - loss: 0.5580 - accuracy: 0.8280\n",
            "Epoch 6/15\n",
            "313/313 [==============================] - 6s 18ms/step - loss: 0.4621 - accuracy: 0.8559\n",
            "Epoch 7/15\n",
            "313/313 [==============================] - 5s 17ms/step - loss: 0.3754 - accuracy: 0.8832\n",
            "Epoch 8/15\n",
            "313/313 [==============================] - 5s 17ms/step - loss: 0.3150 - accuracy: 0.9004\n",
            "Epoch 9/15\n",
            "313/313 [==============================] - 5s 17ms/step - loss: 0.2658 - accuracy: 0.9159\n",
            "Epoch 10/15\n",
            "313/313 [==============================] - 5s 17ms/step - loss: 0.2357 - accuracy: 0.9255\n",
            "Epoch 11/15\n",
            "313/313 [==============================] - 5s 18ms/step - loss: 0.2106 - accuracy: 0.9320\n",
            "Epoch 12/15\n",
            "313/313 [==============================] - 5s 17ms/step - loss: 0.1849 - accuracy: 0.9397\n",
            "Epoch 13/15\n",
            "313/313 [==============================] - 5s 17ms/step - loss: 0.1594 - accuracy: 0.9493\n",
            "Epoch 14/15\n",
            "313/313 [==============================] - 5s 17ms/step - loss: 0.1468 - accuracy: 0.9541\n",
            "Epoch 15/15\n",
            "313/313 [==============================] - 5s 17ms/step - loss: 0.1401 - accuracy: 0.9542\n"
          ]
        },
        {
          "output_type": "execute_result",
          "data": {
            "text/plain": [
              "<keras.callbacks.History at 0x7f9a2e5cec90>"
            ]
          },
          "metadata": {},
          "execution_count": 43
        }
      ]
    },
    {
      "cell_type": "code",
      "source": [
        "predictions = model.predict(test).argmax(axis=1)\n",
        "print(predictions.shape)\n",
        "submission = pd.DataFrame({'Id': list(range(len(predictions))), 'Category': predictions})\n",
        "submission.to_csv('submission.csv', index=False)\n",
        "\n"
      ],
      "metadata": {
        "colab": {
          "base_uri": "https://localhost:8080/"
        },
        "id": "3lozOcWW26gb",
        "outputId": "0f7d6bb6-aa98-4eb0-ea87-7cd49fbd664b"
      },
      "execution_count": null,
      "outputs": [
        {
          "output_type": "stream",
          "name": "stdout",
          "text": [
            "(50000,)\n"
          ]
        }
      ]
    }
  ]
}